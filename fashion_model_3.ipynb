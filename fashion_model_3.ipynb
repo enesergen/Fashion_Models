{
  "nbformat": 4,
  "nbformat_minor": 0,
  "metadata": {
    "colab": {
      "provenance": [],
      "mount_file_id": "15XK1ES4Zjim7uJOUGfA5rXfVC6flgPa4",
      "authorship_tag": "ABX9TyPH6bp4HVaLeKF9zOPSgedo",
      "include_colab_link": true
    },
    "kernelspec": {
      "name": "python3",
      "display_name": "Python 3"
    },
    "language_info": {
      "name": "python"
    },
    "accelerator": "GPU",
    "gpuClass": "standard"
  },
  "cells": [
    {
      "cell_type": "markdown",
      "metadata": {
        "id": "view-in-github",
        "colab_type": "text"
      },
      "source": [
        "<a href=\"https://colab.research.google.com/github/enesergen/Fashion_Models/blob/main/fashion_model_3.ipynb\" target=\"_parent\"><img src=\"https://colab.research.google.com/assets/colab-badge.svg\" alt=\"Open In Colab\"/></a>"
      ]
    },
    {
      "cell_type": "code",
      "execution_count": 1,
      "metadata": {
        "colab": {
          "base_uri": "https://localhost:8080/"
        },
        "id": "aVCLKZ5c8mal",
        "outputId": "1faa0947-ed3c-4c4d-a2ac-4e23066766f2"
      },
      "outputs": [
        {
          "output_type": "stream",
          "name": "stdout",
          "text": [
            "test  train  val\n",
            "There are 3 directiories and 0 images in 'drive/MyDrive/output'.\n",
            "There are 49 directiories and 0 images in 'drive/MyDrive/output/train'.\n",
            "There are 0 directiories and 4 images in 'drive/MyDrive/output/train/Umbrellas'.\n",
            "There are 0 directiories and 243 images in 'drive/MyDrive/output/train/Track Pants'.\n",
            "There are 0 directiories and 2033 images in 'drive/MyDrive/output/train/Watches'.\n",
            "There are 0 directiories and 12 images in 'drive/MyDrive/output/train/Waistcoat'.\n",
            "There are 0 directiories and 424 images in 'drive/MyDrive/output/train/Trousers'.\n",
            "There are 0 directiories and 5655 images in 'drive/MyDrive/output/train/Tshirts'.\n",
            "There are 0 directiories and 13 images in 'drive/MyDrive/output/train/Waist Pouch'.\n",
            "There are 0 directiories and 23 images in 'drive/MyDrive/output/train/Tracksuits'.\n",
            "There are 0 directiories and 7 images in 'drive/MyDrive/output/train/Tights'.\n",
            "There are 0 directiories and 1628 images in 'drive/MyDrive/output/train/Sports Shoes'.\n",
            "There are 0 directiories and 437 images in 'drive/MyDrive/output/train/Shorts'.\n",
            "There are 0 directiories and 858 images in 'drive/MyDrive/output/train/Sunglasses'.\n",
            "There are 0 directiories and 1409 images in 'drive/MyDrive/output/train/Tops'.\n",
            "There are 0 directiories and 4 images in 'drive/MyDrive/output/train/Shrug'.\n",
            "There are 0 directiories and 102 images in 'drive/MyDrive/output/train/Skirts'.\n",
            "There are 0 directiories and 228 images in 'drive/MyDrive/output/train/Sweatshirts'.\n",
            "There are 0 directiories and 13 images in 'drive/MyDrive/output/train/Swimwear'.\n",
            "There are 0 directiories and 221 images in 'drive/MyDrive/output/train/Sweaters'.\n",
            "There are 0 directiories and 9 images in 'drive/MyDrive/output/train/Rompers'.\n",
            "There are 0 directiories and 27 images in 'drive/MyDrive/output/train/Lounge Shorts'.\n",
            "There are 0 directiories and 14 images in 'drive/MyDrive/output/train/Rain Jacket'.\n",
            "There are 0 directiories and 2 images in 'drive/MyDrive/output/train/Lounge Tshirts'.\n",
            "There are 0 directiories and 141 images in 'drive/MyDrive/output/train/Leggings'.\n",
            "There are 0 directiories and 95 images in 'drive/MyDrive/output/train/Scarves'.\n",
            "There are 0 directiories and 1 images in 'drive/MyDrive/output/train/Rain Trousers'.\n",
            "There are 0 directiories and 2572 images in 'drive/MyDrive/output/train/Shirts'.\n",
            "There are 0 directiories and 30 images in 'drive/MyDrive/output/train/Mufflers'.\n",
            "There are 0 directiories and 48 images in 'drive/MyDrive/output/train/Lounge Pants'.\n",
            "There are 0 directiories and 486 images in 'drive/MyDrive/output/train/Jeans'.\n",
            "There are 0 directiories and 16 images in 'drive/MyDrive/output/train/Gloves'.\n",
            "There are 0 directiories and 65 images in 'drive/MyDrive/output/train/Laptop Bag'.\n",
            "There are 0 directiories and 1058 images in 'drive/MyDrive/output/train/Heels'.\n",
            "There are 0 directiories and 27 images in 'drive/MyDrive/output/train/Jeggings'.\n",
            "There are 0 directiories and 509 images in 'drive/MyDrive/output/train/Formal Shoes'.\n",
            "There are 0 directiories and 2 images in 'drive/MyDrive/output/train/Hat'.\n",
            "There are 0 directiories and 1407 images in 'drive/MyDrive/output/train/Handbags'.\n",
            "There are 0 directiories and 206 images in 'drive/MyDrive/output/train/Jackets'.\n",
            "There are 0 directiories and 12 images in 'drive/MyDrive/output/train/Jumpsuit'.\n",
            "There are 0 directiories and 2276 images in 'drive/MyDrive/output/train/Casual Shoes'.\n",
            "There are 0 directiories and 140 images in 'drive/MyDrive/output/train/Capris'.\n",
            "There are 0 directiories and 371 images in 'drive/MyDrive/output/train/Dresses'.\n",
            "There are 0 directiories and 333 images in 'drive/MyDrive/output/train/Earrings'.\n",
            "There are 0 directiories and 70 images in 'drive/MyDrive/output/train/Duffel Bag'.\n",
            "There are 0 directiories and 400 images in 'drive/MyDrive/output/train/Flats'.\n",
            "There are 0 directiories and 6 images in 'drive/MyDrive/output/train/Blazers'.\n",
            "There are 0 directiories and 9 images in 'drive/MyDrive/output/train/Booties'.\n",
            "There are 0 directiories and 650 images in 'drive/MyDrive/output/train/Belts'.\n",
            "There are 0 directiories and 226 images in 'drive/MyDrive/output/train/Caps'.\n",
            "There are 0 directiories and 579 images in 'drive/MyDrive/output/train/Backpacks'.\n",
            "There are 49 directiories and 0 images in 'drive/MyDrive/output/test'.\n",
            "There are 0 directiories and 255 images in 'drive/MyDrive/output/test/Watches'.\n",
            "There are 0 directiories and 708 images in 'drive/MyDrive/output/test/Tshirts'.\n",
            "There are 0 directiories and 31 images in 'drive/MyDrive/output/test/Track Pants'.\n",
            "There are 0 directiories and 4 images in 'drive/MyDrive/output/test/Tracksuits'.\n",
            "There are 0 directiories and 2 images in 'drive/MyDrive/output/test/Waistcoat'.\n",
            "There are 0 directiories and 177 images in 'drive/MyDrive/output/test/Tops'.\n",
            "There are 0 directiories and 2 images in 'drive/MyDrive/output/test/Umbrellas'.\n",
            "There are 0 directiories and 3 images in 'drive/MyDrive/output/test/Waist Pouch'.\n",
            "There are 0 directiories and 53 images in 'drive/MyDrive/output/test/Trousers'.\n",
            "There are 0 directiories and 205 images in 'drive/MyDrive/output/test/Sports Shoes'.\n",
            "There are 0 directiories and 56 images in 'drive/MyDrive/output/test/Shorts'.\n",
            "There are 0 directiories and 3 images in 'drive/MyDrive/output/test/Swimwear'.\n",
            "There are 0 directiories and 2 images in 'drive/MyDrive/output/test/Shrug'.\n",
            "There are 0 directiories and 14 images in 'drive/MyDrive/output/test/Skirts'.\n",
            "There are 0 directiories and 29 images in 'drive/MyDrive/output/test/Sweaters'.\n",
            "There are 0 directiories and 322 images in 'drive/MyDrive/output/test/Shirts'.\n",
            "There are 0 directiories and 108 images in 'drive/MyDrive/output/test/Sunglasses'.\n",
            "There are 0 directiories and 2 images in 'drive/MyDrive/output/test/Tights'.\n",
            "There are 0 directiories and 29 images in 'drive/MyDrive/output/test/Sweatshirts'.\n",
            "There are 0 directiories and 3 images in 'drive/MyDrive/output/test/Rain Jacket'.\n",
            "There are 0 directiories and 13 images in 'drive/MyDrive/output/test/Scarves'.\n",
            "There are 0 directiories and 9 images in 'drive/MyDrive/output/test/Laptop Bag'.\n",
            "There are 0 directiories and 7 images in 'drive/MyDrive/output/test/Lounge Pants'.\n",
            "There are 0 directiories and 4 images in 'drive/MyDrive/output/test/Lounge Shorts'.\n",
            "There are 0 directiories and 1 images in 'drive/MyDrive/output/test/Rain Trousers'.\n",
            "There are 0 directiories and 5 images in 'drive/MyDrive/output/test/Mufflers'.\n",
            "There are 0 directiories and 1 images in 'drive/MyDrive/output/test/Lounge Tshirts'.\n",
            "There are 0 directiories and 2 images in 'drive/MyDrive/output/test/Rompers'.\n",
            "There are 0 directiories and 19 images in 'drive/MyDrive/output/test/Leggings'.\n",
            "There are 0 directiories and 3 images in 'drive/MyDrive/output/test/Jumpsuit'.\n",
            "There are 0 directiories and 62 images in 'drive/MyDrive/output/test/Jeans'.\n",
            "There are 0 directiories and 4 images in 'drive/MyDrive/output/test/Jeggings'.\n",
            "There are 0 directiories and 65 images in 'drive/MyDrive/output/test/Formal Shoes'.\n",
            "There are 0 directiories and 27 images in 'drive/MyDrive/output/test/Jackets'.\n",
            "There are 0 directiories and 50 images in 'drive/MyDrive/output/test/Flats'.\n",
            "There are 0 directiories and 133 images in 'drive/MyDrive/output/test/Heels'.\n",
            "There are 0 directiories and 177 images in 'drive/MyDrive/output/test/Handbags'.\n",
            "There are 0 directiories and 1 images in 'drive/MyDrive/output/test/Hat'.\n",
            "There are 0 directiories and 2 images in 'drive/MyDrive/output/test/Gloves'.\n",
            "There are 0 directiories and 29 images in 'drive/MyDrive/output/test/Caps'.\n",
            "There are 0 directiories and 2 images in 'drive/MyDrive/output/test/Blazers'.\n",
            "There are 0 directiories and 82 images in 'drive/MyDrive/output/test/Belts'.\n",
            "There are 0 directiories and 47 images in 'drive/MyDrive/output/test/Dresses'.\n",
            "There are 0 directiories and 286 images in 'drive/MyDrive/output/test/Casual Shoes'.\n",
            "There are 0 directiories and 73 images in 'drive/MyDrive/output/test/Backpacks'.\n",
            "There are 0 directiories and 18 images in 'drive/MyDrive/output/test/Capris'.\n",
            "There are 0 directiories and 43 images in 'drive/MyDrive/output/test/Earrings'.\n",
            "There are 0 directiories and 10 images in 'drive/MyDrive/output/test/Duffel Bag'.\n",
            "There are 0 directiories and 2 images in 'drive/MyDrive/output/test/Booties'.\n",
            "There are 49 directiories and 0 images in 'drive/MyDrive/output/val'.\n",
            "There are 0 directiories and 1 images in 'drive/MyDrive/output/val/Waistcoat'.\n",
            "There are 0 directiories and 28 images in 'drive/MyDrive/output/val/Sweatshirts'.\n",
            "There are 0 directiories and 30 images in 'drive/MyDrive/output/val/Track Pants'.\n",
            "There are 0 directiories and 176 images in 'drive/MyDrive/output/val/Tops'.\n",
            "There are 0 directiories and 2 images in 'drive/MyDrive/output/val/Tracksuits'.\n",
            "There are 0 directiories and 53 images in 'drive/MyDrive/output/val/Trousers'.\n",
            "There are 0 directiories and 706 images in 'drive/MyDrive/output/val/Tshirts'.\n",
            "There are 0 directiories and 254 images in 'drive/MyDrive/output/val/Watches'.\n",
            "There are 0 directiories and 1 images in 'drive/MyDrive/output/val/Waist Pouch'.\n",
            "There are 0 directiories and 1 images in 'drive/MyDrive/output/val/Swimwear'.\n",
            "There are 0 directiories and 203 images in 'drive/MyDrive/output/val/Sports Shoes'.\n",
            "There are 0 directiories and 27 images in 'drive/MyDrive/output/val/Sweaters'.\n",
            "There are 0 directiories and 1 images in 'drive/MyDrive/output/val/Rompers'.\n",
            "There are 0 directiories and 3 images in 'drive/MyDrive/output/val/Mufflers'.\n",
            "There are 0 directiories and 11 images in 'drive/MyDrive/output/val/Scarves'.\n",
            "There are 0 directiories and 1 images in 'drive/MyDrive/output/val/Rain Jacket'.\n",
            "There are 0 directiories and 321 images in 'drive/MyDrive/output/val/Shirts'.\n",
            "There are 0 directiories and 12 images in 'drive/MyDrive/output/val/Skirts'.\n",
            "There are 0 directiories and 54 images in 'drive/MyDrive/output/val/Shorts'.\n",
            "There are 0 directiories and 107 images in 'drive/MyDrive/output/val/Sunglasses'.\n",
            "There are 0 directiories and 3 images in 'drive/MyDrive/output/val/Jeggings'.\n",
            "There are 0 directiories and 8 images in 'drive/MyDrive/output/val/Laptop Bag'.\n",
            "There are 0 directiories and 6 images in 'drive/MyDrive/output/val/Lounge Pants'.\n",
            "There are 0 directiories and 132 images in 'drive/MyDrive/output/val/Heels'.\n",
            "There are 0 directiories and 3 images in 'drive/MyDrive/output/val/Lounge Shorts'.\n",
            "There are 0 directiories and 17 images in 'drive/MyDrive/output/val/Leggings'.\n",
            "There are 0 directiories and 1 images in 'drive/MyDrive/output/val/Jumpsuit'.\n",
            "There are 0 directiories and 175 images in 'drive/MyDrive/output/val/Handbags'.\n",
            "There are 0 directiories and 25 images in 'drive/MyDrive/output/val/Jackets'.\n",
            "There are 0 directiories and 60 images in 'drive/MyDrive/output/val/Jeans'.\n",
            "There are 0 directiories and 28 images in 'drive/MyDrive/output/val/Caps'.\n",
            "There are 0 directiories and 46 images in 'drive/MyDrive/output/val/Dresses'.\n",
            "There are 0 directiories and 63 images in 'drive/MyDrive/output/val/Formal Shoes'.\n",
            "There are 0 directiories and 1 images in 'drive/MyDrive/output/val/Booties'.\n",
            "There are 0 directiories and 2 images in 'drive/MyDrive/output/val/Gloves'.\n",
            "There are 0 directiories and 17 images in 'drive/MyDrive/output/val/Capris'.\n",
            "There are 0 directiories and 284 images in 'drive/MyDrive/output/val/Casual Shoes'.\n",
            "There are 0 directiories and 8 images in 'drive/MyDrive/output/val/Duffel Bag'.\n",
            "There are 0 directiories and 50 images in 'drive/MyDrive/output/val/Flats'.\n",
            "There are 0 directiories and 41 images in 'drive/MyDrive/output/val/Earrings'.\n",
            "There are 0 directiories and 81 images in 'drive/MyDrive/output/val/Belts'.\n",
            "There are 0 directiories and 72 images in 'drive/MyDrive/output/val/Backpacks'.\n",
            "There are 0 directiories and 1 images in 'drive/MyDrive/output/val/Blazers'.\n",
            "There are 0 directiories and 1 images in 'drive/MyDrive/output/val/Hat'.\n",
            "There are 0 directiories and 1 images in 'drive/MyDrive/output/val/Lounge Tshirts'.\n",
            "There are 0 directiories and 1 images in 'drive/MyDrive/output/val/Shrug'.\n",
            "There are 0 directiories and 1 images in 'drive/MyDrive/output/val/Rain Trousers'.\n",
            "There are 0 directiories and 1 images in 'drive/MyDrive/output/val/Tights'.\n",
            "There are 0 directiories and 1 images in 'drive/MyDrive/output/val/Umbrellas'.\n"
          ]
        }
      ],
      "source": [
        "!ls drive/MyDrive/output/\n",
        "import os \n",
        "for dirpath,dirnames,filenames in os.walk(\"drive/MyDrive/output\"):\n",
        "  print(f\"There are {len(dirnames)} directiories and {len(filenames)} images in '{dirpath}'.\")\n",
        "     "
      ]
    },
    {
      "cell_type": "code",
      "source": [
        "train_dir=\"/content/drive/MyDrive/output/train/\"\n",
        "test_dir=\"/content/drive/MyDrive/output/test/\"\n",
        "val_dir=\"/content/drive/MyDrive/output/val/\""
      ],
      "metadata": {
        "id": "e34ugDpp8r11"
      },
      "execution_count": 2,
      "outputs": []
    },
    {
      "cell_type": "code",
      "source": [
        "import pathlib \n",
        "import numpy as np\n",
        "data_dir=pathlib.Path(train_dir)\n",
        "class_names=np.array(sorted([item.name for item in data_dir.glob(\"*\")]))\n",
        "print(class_names)"
      ],
      "metadata": {
        "colab": {
          "base_uri": "https://localhost:8080/"
        },
        "id": "cR3rCXI48vyB",
        "outputId": "8ebe360d-f44a-418f-dd9d-1455c60e1b0a"
      },
      "execution_count": 3,
      "outputs": [
        {
          "output_type": "stream",
          "name": "stdout",
          "text": [
            "['Backpacks' 'Belts' 'Blazers' 'Booties' 'Capris' 'Caps' 'Casual Shoes'\n",
            " 'Dresses' 'Duffel Bag' 'Earrings' 'Flats' 'Formal Shoes' 'Gloves'\n",
            " 'Handbags' 'Hat' 'Heels' 'Jackets' 'Jeans' 'Jeggings' 'Jumpsuit'\n",
            " 'Laptop Bag' 'Leggings' 'Lounge Pants' 'Lounge Shorts' 'Lounge Tshirts'\n",
            " 'Mufflers' 'Rain Jacket' 'Rain Trousers' 'Rompers' 'Scarves' 'Shirts'\n",
            " 'Shorts' 'Shrug' 'Skirts' 'Sports Shoes' 'Sunglasses' 'Sweaters'\n",
            " 'Sweatshirts' 'Swimwear' 'Tights' 'Tops' 'Track Pants' 'Tracksuits'\n",
            " 'Trousers' 'Tshirts' 'Umbrellas' 'Waist Pouch' 'Waistcoat' 'Watches']\n"
          ]
        }
      ]
    },
    {
      "cell_type": "code",
      "source": [
        "# View an image\n",
        "import matplotlib.pyplot as plt\n",
        "import matplotlib.image as mpimg\n",
        "import random\n",
        "\n",
        "def view_random_image(target_dir, target_class):\n",
        "  # Setup target directory (we'll view images from here)\n",
        "  target_folder = target_dir+target_class\n",
        "\n",
        "  # Get a random image path\n",
        "  random_image = random.sample(os.listdir(target_folder), 1)\n",
        "\n",
        "  # Read in the image and plot it using matplotlib\n",
        "  img = mpimg.imread(target_folder + \"/\" + random_image[0])\n",
        "  plt.imshow(img)\n",
        "  plt.title(target_class)\n",
        "  plt.axis(\"off\");\n",
        "\n",
        "  print(f\"Image shape: {img.shape}\") # show the shape of the image\n",
        "\n",
        "  return img"
      ],
      "metadata": {
        "id": "8Z1anc5t8xkY"
      },
      "execution_count": 4,
      "outputs": []
    },
    {
      "cell_type": "code",
      "source": [
        "import random\n",
        "img=view_random_image(target_dir=train_dir,target_class=random.choice(class_names))\n"
      ],
      "metadata": {
        "colab": {
          "base_uri": "https://localhost:8080/",
          "height": 281
        },
        "id": "p-T8Wep881Kv",
        "outputId": "bf7fb236-1090-430c-b320-eb68b23ecdd4"
      },
      "execution_count": 5,
      "outputs": [
        {
          "output_type": "stream",
          "name": "stdout",
          "text": [
            "Image shape: (2400, 1800, 3)\n"
          ]
        },
        {
          "output_type": "display_data",
          "data": {
            "text/plain": [
              "<Figure size 432x288 with 1 Axes>"
            ],
            "image/png": "[encoded data removed]"
          },
          "metadata": {
            "needs_background": "light"
          }
        }
      ]
    },
    {
      "cell_type": "code",
      "source": [
        "from tensorflow.keras.preprocessing.image import ImageDataGenerator\n",
        "#rescaling\n",
        "train_datagen_augmented=ImageDataGenerator(rescale=1/255.,\n",
        "                                           rotation_range=20,\n",
        "                                           width_shift_range=0.2,\n",
        "                                           height_shift_range=0.2,\n",
        "                                           zoom_range=0.3,\n",
        "                                           horizontal_flip=True)\n",
        "train_data_augmented=train_datagen_augmented.flow_from_directory(train_dir,\n",
        "                                                                 target_size=(224,224),\n",
        "                                                                 batch_size=32,\n",
        "                                                                 class_mode=\"categorical\")\n",
        "val_datagen=ImageDataGenerator(rescale=1/255.)\n",
        "test_datagen=ImageDataGenerator(rescale=1/255.)\n",
        "val_data=val_datagen.flow_from_directory(val_dir,\n",
        "                                             target_size=(224,224),\n",
        "                                             batch_size=32,\n",
        "                                             class_mode=\"categorical\")\n",
        "test_data=test_datagen.flow_from_directory(test_dir,\n",
        "                                             target_size=(224,224),\n",
        "                                             batch_size=32,\n",
        "                                             class_mode=\"categorical\")"
      ],
      "metadata": {
        "colab": {
          "base_uri": "https://localhost:8080/"
        },
        "id": "EACovyIW89c8",
        "outputId": "19b3226e-0721-4491-bb2c-9bc6dece7914"
      },
      "execution_count": 6,
      "outputs": [
        {
          "output_type": "stream",
          "name": "stdout",
          "text": [
            "Found 25101 images belonging to 49 classes.\n",
            "Found 3122 images belonging to 49 classes.\n",
            "Found 3185 images belonging to 49 classes.\n"
          ]
        }
      ]
    },
    {
      "cell_type": "code",
      "source": [
        "import tensorflow as tf\n",
        "from tensorflow.keras.models import Sequential\n",
        "from tensorflow.keras.layers import Conv2D,MaxPool2D,Flatten,Dense\n",
        "from tensorflow.keras.optimizers.legacy import Adam\n",
        "tf.random.set_seed(42)\n",
        "model_3=Sequential([\n",
        "    Conv2D(32,3,activation=\"relu\",input_shape=(224,224,3)),\n",
        "    Conv2D(32,3,activation=\"relu\"),\n",
        "    MaxPool2D(),\n",
        "    Conv2D(32,3,activation=\"relu\"),\n",
        "    Conv2D(32,3,activation=\"relu\"),\n",
        "    MaxPool2D(),\n",
        "    Conv2D(32,3,activation=\"relu\"),\n",
        "    Conv2D(32,3,activation=\"relu\"),\n",
        "    MaxPool2D(),\n",
        "    Conv2D(32,3,activation=\"relu\"),\n",
        "    Conv2D(32,3,activation=\"relu\"),\n",
        "    MaxPool2D(),\n",
        "    Conv2D(32,3,activation=\"relu\"),\n",
        "    Conv2D(32,3,activation=\"relu\"),\n",
        "    MaxPool2D(),\n",
        "    Flatten(),\n",
        "    Dense(49,activation=\"softmax\")\n",
        "\n",
        "])\n",
        "\n",
        "model_3.compile(loss=\"categorical_crossentropy\",\n",
        "                optimizer=Adam(),\n",
        "                metrics=[\"accuracy\"])\n",
        "\n",
        "history_3=model_3.fit(train_data_augmented,\n",
        "                      epochs=7,\n",
        "                      steps_per_epoch=len(train_data_augmented),\n",
        "                      validation_data=val_data,\n",
        "                      validation_steps=len(val_data))\n"
      ],
      "metadata": {
        "colab": {
          "base_uri": "https://localhost:8080/"
        },
        "id": "9M7CTmW48_gi",
        "outputId": "8fe69e71-1364-4d96-954a-642e6e2fd647"
      },
      "execution_count": 7,
      "outputs": [
        {
          "output_type": "stream",
          "name": "stdout",
          "text": [
            "Epoch 1/7\n",
            "785/785 [==============================] - 7529s 10s/step - loss: 2.3565 - accuracy: 0.3241 - val_loss: 1.7480 - val_accuracy: 0.4917\n",
            "Epoch 2/7\n",
            "785/785 [==============================] - 1467s 2s/step - loss: 1.5911 - accuracy: 0.5115 - val_loss: 1.2653 - val_accuracy: 0.6115\n",
            "Epoch 3/7\n",
            "785/785 [==============================] - 1468s 2s/step - loss: 1.2702 - accuracy: 0.6047 - val_loss: 0.9178 - val_accuracy: 0.7047\n",
            "Epoch 4/7\n",
            "785/785 [==============================] - 1435s 2s/step - loss: 1.1238 - accuracy: 0.6428 - val_loss: 0.8626 - val_accuracy: 0.7159\n",
            "Epoch 5/7\n",
            "785/785 [==============================] - 1407s 2s/step - loss: 1.0267 - accuracy: 0.6656 - val_loss: 0.7981 - val_accuracy: 0.7239\n",
            "Epoch 6/7\n",
            "785/785 [==============================] - 1414s 2s/step - loss: 0.9702 - accuracy: 0.6834 - val_loss: 0.8216 - val_accuracy: 0.7255\n",
            "Epoch 7/7\n",
            "785/785 [==============================] - 1433s 2s/step - loss: 0.9288 - accuracy: 0.6945 - val_loss: 0.7404 - val_accuracy: 0.7434\n"
          ]
        }
      ]
    },
    {
      "cell_type": "code",
      "source": [
        "model_3.evaluate(test_data)"
      ],
      "metadata": {
        "colab": {
          "base_uri": "https://localhost:8080/"
        },
        "id": "l9I1dHYl9E40",
        "outputId": "af0f378a-d853-4e48-fc31-503bdadce2ad"
      },
      "execution_count": 8,
      "outputs": [
        {
          "output_type": "stream",
          "name": "stdout",
          "text": [
            "100/100 [==============================] - 816s 8s/step - loss: 0.8018 - accuracy: 0.7275\n"
          ]
        },
        {
          "output_type": "execute_result",
          "data": {
            "text/plain": [
              "[0.8017604351043701, 0.7274725437164307]"
            ]
          },
          "metadata": {},
          "execution_count": 8
        }
      ]
    },
    {
      "cell_type": "code",
      "source": [
        "# Plot the validation and training data separately\n",
        "def plot_loss_curves(history):\n",
        "  \"\"\"\n",
        "  Returns separate loss curves for training and validation metrics.\n",
        "  \"\"\" \n",
        "  loss = history.history['loss']\n",
        "  val_loss = history.history['val_loss']\n",
        "\n",
        "  accuracy = history.history['accuracy']\n",
        "  val_accuracy = history.history['val_accuracy']\n",
        "\n",
        "  epochs = range(len(history.history['loss']))\n",
        "\n",
        "  # Plot loss\n",
        "  plt.plot(epochs, loss, label='training_loss')\n",
        "  plt.plot(epochs, val_loss, label='val_loss')\n",
        "  plt.title('Loss')\n",
        "  plt.xlabel('Epochs')\n",
        "  plt.legend()\n",
        "\n",
        "  # Plot accuracy\n",
        "  plt.figure()\n",
        "  plt.plot(epochs, accuracy, label='training_accuracy')\n",
        "  plt.plot(epochs, val_accuracy, label='val_accuracy')\n",
        "  plt.title('Accuracy')\n",
        "  plt.xlabel('Epochs')\n",
        "  plt.legend();\n",
        "     "
      ],
      "metadata": {
        "id": "XsiwkoWL9ICY"
      },
      "execution_count": 9,
      "outputs": []
    },
    {
      "cell_type": "code",
      "source": [
        "plot_loss_curves(history_3)"
      ],
      "metadata": {
        "colab": {
          "base_uri": "https://localhost:8080/",
          "height": 573
        },
        "id": "OlmaxjeP9KEr",
        "outputId": "aba1bb12-45f1-40a5-baf4-b27208ea2fcd"
      },
      "execution_count": 10,
      "outputs": [
        {
          "output_type": "display_data",
          "data": {
            "text/plain": [
              "<Figure size 432x288 with 1 Axes>"
            ],
            "image/png": "[encoded data removed]"
          },
          "metadata": {
            "needs_background": "light"
          }
        },
        {
          "output_type": "display_data",
          "data": {
            "text/plain": [
              "<Figure size 432x288 with 1 Axes>"
            ],
            "image/png": "[encoded data removed]"
          },
          "metadata": {
            "needs_background": "light"
          }
        }
      ]
    },
    {
      "cell_type": "code",
      "source": [
        "model_3.save(\"Model_3\")"
      ],
      "metadata": {
        "colab": {
          "base_uri": "https://localhost:8080/"
        },
        "id": "gU5W6Nf39L2b",
        "outputId": "e6a6e7fc-3b1f-408a-a95e-12d3e44ff8c6"
      },
      "execution_count": 11,
      "outputs": [
        {
          "output_type": "stream",
          "name": "stderr",
          "text": [
            "WARNING:absl:Found untraced functions such as _jit_compiled_convolution_op, _jit_compiled_convolution_op, _jit_compiled_convolution_op, _jit_compiled_convolution_op, _jit_compiled_convolution_op while saving (showing 5 of 10). These functions will not be directly callable after loading.\n"
          ]
        }
      ]
    },
    {
      "cell_type": "code",
      "source": [
        "model_3.save(\"Model_3_h5.h5\")"
      ],
      "metadata": {
        "id": "IzDAKszV9MQ8"
      },
      "execution_count": 12,
      "outputs": []
    },
    {
      "cell_type": "code",
      "source": [
        "!zip -r /content/Model_3 /content/Model_3\n",
        "from google.colab import files\n",
        "files.download(\"/content/Model_3.zip\")"
      ],
      "metadata": {
        "colab": {
          "base_uri": "https://localhost:8080/",
          "height": 156
        },
        "id": "yQ8DooPC9NwF",
        "outputId": "dfe2bc14-f036-4b00-cd4a-c0cbb88efc4e"
      },
      "execution_count": 13,
      "outputs": [
        {
          "output_type": "stream",
          "name": "stdout",
          "text": [
            "  adding: content/Model_3/ (stored 0%)\n",
            "  adding: content/Model_3/assets/ (stored 0%)\n",
            "  adding: content/Model_3/keras_metadata.pb (deflated 95%)\n",
            "  adding: content/Model_3/saved_model.pb (deflated 90%)\n",
            "  adding: content/Model_3/fingerprint.pb (stored 0%)\n",
            "  adding: content/Model_3/variables/ (stored 0%)\n",
            "  adding: content/Model_3/variables/variables.index (deflated 75%)\n",
            "  adding: content/Model_3/variables/variables.data-00000-of-00001 (deflated 10%)\n"
          ]
        },
        {
          "output_type": "display_data",
          "data": {
            "text/plain": [
              "<IPython.core.display.Javascript object>"
            ],
            "application/javascript": [
              "\n",
              "    async function download(id, filename, size) {\n",
              "      if (!google.colab.kernel.accessAllowed) {\n",
              "        return;\n",
              "      }\n",
              "      const div = document.createElement('div');\n",
              "      const label = document.createElement('label');\n",
              "      label.textContent = `Downloading \"${filename}\": `;\n",
              "      div.appendChild(label);\n",
              "      const progress = document.createElement('progress');\n",
              "      progress.max = size;\n",
              "      div.appendChild(progress);\n",
              "      document.body.appendChild(div);\n",
              "\n",
              "      const buffers = [];\n",
              "      let downloaded = 0;\n",
              "\n",
              "      const channel = await google.colab.kernel.comms.open(id);\n",
              "      // Send a message to notify the kernel that we're ready.\n",
              "      channel.send({})\n",
              "\n",
              "      for await (const message of channel.messages) {\n",
              "        // Send a message to notify the kernel that we're ready.\n",
              "        channel.send({})\n",
              "        if (message.buffers) {\n",
              "          for (const buffer of message.buffers) {\n",
              "            buffers.push(buffer);\n",
              "            downloaded += buffer.byteLength;\n",
              "            progress.value = downloaded;\n",
              "          }\n",
              "        }\n",
              "      }\n",
              "      const blob = new Blob(buffers, {type: 'application/binary'});\n",
              "      const a = document.createElement('a');\n",
              "      a.href = window.URL.createObjectURL(blob);\n",
              "      a.download = filename;\n",
              "      div.appendChild(a);\n",
              "      a.click();\n",
              "      div.remove();\n",
              "    }\n",
              "  "
            ]
          },
          "metadata": {}
        },
        {
          "output_type": "display_data",
          "data": {
            "text/plain": [
              "<IPython.core.display.Javascript object>"
            ],
            "application/javascript": [
              "download(\"download_6bf7f935-413b-4a5d-8c47-9c0d9d599115\", \"Model_3.zip\", 1109971)"
            ]
          },
          "metadata": {}
        }
      ]
    }
  ]
}