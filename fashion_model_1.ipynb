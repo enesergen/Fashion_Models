{
  "nbformat": 4,
  "nbformat_minor": 0,
  "metadata": {
    "colab": {
      "provenance": [],
      "toc_visible": true,
      "mount_file_id": "1x4-zVaeMwUWzq2XtTJREEey2lplAHxKO",
      "authorship_tag": "ABX9TyOydkB105DZWlpBUD30k/er",
      "include_colab_link": true
    },
    "kernelspec": {
      "name": "python3",
      "display_name": "Python 3"
    },
    "language_info": {
      "name": "python"
    },
    "gpuClass": "standard",
    "accelerator": "GPU"
  },
  "cells": [
    {
      "cell_type": "markdown",
      "metadata": {
        "id": "view-in-github",
        "colab_type": "text"
      },
      "source": [
        "<a href=\"https://colab.research.google.com/github/enesergen/Fashion_Models/blob/main/fashion_model_1.ipynb\" target=\"_parent\"><img src=\"https://colab.research.google.com/assets/colab-badge.svg\" alt=\"Open In Colab\"/></a>"
      ]
    },
    {
      "cell_type": "code",
      "execution_count": null,
      "metadata": {
        "colab": {
          "base_uri": "https://localhost:8080/"
        },
        "id": "NBx9iXDpTekC",
        "outputId": "4311c5b9-d9bc-44bf-c027-5c9d14fc86c3"
      },
      "outputs": [
        {
          "output_type": "stream",
          "name": "stdout",
          "text": [
            " Backpacks\t Flats\t\t'Laptop Bag'\t   Shirts\t   Tops\n",
            " Belts\t\t'Formal Shoes'\t Leggings\t   Shorts\t  'Track Pants'\n",
            " Blazers\t Gloves\t\t'Lounge Pants'\t   Shrug\t   Tracksuits\n",
            " Booties\t Handbags\t'Lounge Shorts'    Skirts\t   Trousers\n",
            " Capris\t\t Hat\t\t'Lounge Tshirts'  'Sports Shoes'   Tshirts\n",
            " Caps\t\t Heels\t\t Mufflers\t   Sunglasses\t   Umbrellas\n",
            "'Casual Shoes'\t Jackets\t'Rain Jacket'\t   Sweaters\t   Waistcoat\n",
            " Dresses\t Jeans\t\t'Rain Trousers'    Sweatshirts\t  'Waist Pouch'\n",
            "'Duffel Bag'\t Jeggings\t Rompers\t   Swimwear\t   Watches\n",
            " Earrings\t Jumpsuit\t Scarves\t   Tights\n"
          ]
        }
      ],
      "source": [
        "!ls drive/MyDrive/FashionDataset"
      ]
    },
    {
      "cell_type": "code",
      "source": [
        "import os \n",
        "for dirpath,dirnames,filenames in os.walk(\"drive/MyDrive/FashionDataset\"):\n",
        "  print(f\"There are {len(dirnames)} directiories and {len(filenames)} images in '{dirpath}'.\")"
      ],
      "metadata": {
        "colab": {
          "base_uri": "https://localhost:8080/"
        },
        "id": "boWjpu9ZXRAM",
        "outputId": "43e553cd-a734-4cb1-c086-418d29e242ac"
      },
      "execution_count": null,
      "outputs": [
        {
          "output_type": "stream",
          "name": "stdout",
          "text": [
            "There are 49 directiories and 0 images in 'drive/MyDrive/FashionDataset'.\n",
            "There are 0 directiories and 304 images in 'drive/MyDrive/FashionDataset/Track Pants'.\n",
            "There are 0 directiories and 29 images in 'drive/MyDrive/FashionDataset/Tracksuits'.\n",
            "There are 0 directiories and 7069 images in 'drive/MyDrive/FashionDataset/Tshirts'.\n",
            "There are 0 directiories and 1762 images in 'drive/MyDrive/FashionDataset/Tops'.\n",
            "There are 0 directiories and 15 images in 'drive/MyDrive/FashionDataset/Waistcoat'.\n",
            "There are 0 directiories and 6 images in 'drive/MyDrive/FashionDataset/Umbrellas'.\n",
            "There are 0 directiories and 9 images in 'drive/MyDrive/FashionDataset/Tights'.\n",
            "There are 0 directiories and 530 images in 'drive/MyDrive/FashionDataset/Trousers'.\n",
            "There are 0 directiories and 2542 images in 'drive/MyDrive/FashionDataset/Watches'.\n",
            "There are 0 directiories and 17 images in 'drive/MyDrive/FashionDataset/Waist Pouch'.\n",
            "There are 0 directiories and 285 images in 'drive/MyDrive/FashionDataset/Sweatshirts'.\n",
            "There are 0 directiories and 547 images in 'drive/MyDrive/FashionDataset/Shorts'.\n",
            "There are 0 directiories and 2036 images in 'drive/MyDrive/FashionDataset/Sports Shoes'.\n",
            "There are 0 directiories and 128 images in 'drive/MyDrive/FashionDataset/Skirts'.\n",
            "There are 0 directiories and 6 images in 'drive/MyDrive/FashionDataset/Shrug'.\n",
            "There are 0 directiories and 277 images in 'drive/MyDrive/FashionDataset/Sweaters'.\n",
            "There are 0 directiories and 1073 images in 'drive/MyDrive/FashionDataset/Sunglasses'.\n",
            "There are 0 directiories and 3215 images in 'drive/MyDrive/FashionDataset/Shirts'.\n",
            "There are 0 directiories and 17 images in 'drive/MyDrive/FashionDataset/Swimwear'.\n",
            "There are 0 directiories and 119 images in 'drive/MyDrive/FashionDataset/Scarves'.\n",
            "There are 0 directiories and 2 images in 'drive/MyDrive/FashionDataset/Rain Trousers'.\n",
            "There are 0 directiories and 12 images in 'drive/MyDrive/FashionDataset/Rompers'.\n",
            "There are 0 directiories and 61 images in 'drive/MyDrive/FashionDataset/Lounge Pants'.\n",
            "There are 0 directiories and 177 images in 'drive/MyDrive/FashionDataset/Leggings'.\n",
            "There are 0 directiories and 16 images in 'drive/MyDrive/FashionDataset/Jumpsuit'.\n",
            "There are 0 directiories and 82 images in 'drive/MyDrive/FashionDataset/Laptop Bag'.\n",
            "There are 0 directiories and 38 images in 'drive/MyDrive/FashionDataset/Mufflers'.\n",
            "There are 0 directiories and 34 images in 'drive/MyDrive/FashionDataset/Lounge Shorts'.\n",
            "There are 0 directiories and 3 images in 'drive/MyDrive/FashionDataset/Lounge Tshirts'.\n",
            "There are 0 directiories and 18 images in 'drive/MyDrive/FashionDataset/Rain Jacket'.\n",
            "There are 0 directiories and 637 images in 'drive/MyDrive/FashionDataset/Formal Shoes'.\n",
            "There are 0 directiories and 20 images in 'drive/MyDrive/FashionDataset/Gloves'.\n",
            "There are 0 directiories and 258 images in 'drive/MyDrive/FashionDataset/Jackets'.\n",
            "There are 0 directiories and 1759 images in 'drive/MyDrive/FashionDataset/Handbags'.\n",
            "There are 0 directiories and 34 images in 'drive/MyDrive/FashionDataset/Jeggings'.\n",
            "There are 0 directiories and 500 images in 'drive/MyDrive/FashionDataset/Flats'.\n",
            "There are 0 directiories and 417 images in 'drive/MyDrive/FashionDataset/Earrings'.\n",
            "There are 0 directiories and 3 images in 'drive/MyDrive/FashionDataset/Hat'.\n",
            "There are 0 directiories and 1323 images in 'drive/MyDrive/FashionDataset/Heels'.\n",
            "There are 0 directiories and 608 images in 'drive/MyDrive/FashionDataset/Jeans'.\n",
            "There are 0 directiories and 464 images in 'drive/MyDrive/FashionDataset/Dresses'.\n",
            "There are 0 directiories and 0 images in 'drive/MyDrive/FashionDataset/Booties'.\n",
            "There are 0 directiories and 50 images in 'drive/MyDrive/FashionDataset/Backpacks'.\n",
            "There are 0 directiories and 1 images in 'drive/MyDrive/FashionDataset/Belts'.\n",
            "There are 0 directiories and 2204 images in 'drive/MyDrive/FashionDataset/Casual Shoes'.\n",
            "There are 0 directiories and 4 images in 'drive/MyDrive/FashionDataset/Capris'.\n",
            "There are 0 directiories and 88 images in 'drive/MyDrive/FashionDataset/Duffel Bag'.\n",
            "There are 0 directiories and 4 images in 'drive/MyDrive/FashionDataset/Caps'.\n",
            "There are 0 directiories and 1 images in 'drive/MyDrive/FashionDataset/Blazers'.\n"
          ]
        }
      ]
    },
    {
      "cell_type": "code",
      "source": [
        "import pathlib\n",
        "import numpy as np\n",
        "data_dir=pathlib.Path(\"drive/MyDrive/FashionDataset/\")\n",
        "class_names=np.array(sorted([item.name for item in data_dir.glob(\"*\")]))\n",
        "print(class_names)"
      ],
      "metadata": {
        "colab": {
          "base_uri": "https://localhost:8080/"
        },
        "id": "Q-tVs52NX7i8",
        "outputId": "8f3fdb2d-c805-4a62-8a77-22e2f22b5a7f"
      },
      "execution_count": null,
      "outputs": [
        {
          "output_type": "stream",
          "name": "stdout",
          "text": [
            "['Backpacks' 'Belts' 'Blazers' 'Booties' 'Capris' 'Caps' 'Casual Shoes'\n",
            " 'Dresses' 'Duffel Bag' 'Earrings' 'Flats' 'Formal Shoes' 'Gloves'\n",
            " 'Handbags' 'Hat' 'Heels' 'Jackets' 'Jeans' 'Jeggings' 'Jumpsuit'\n",
            " 'Laptop Bag' 'Leggings' 'Lounge Pants' 'Lounge Shorts' 'Lounge Tshirts'\n",
            " 'Mufflers' 'Rain Jacket' 'Rain Trousers' 'Rompers' 'Scarves' 'Shirts'\n",
            " 'Shorts' 'Shrug' 'Skirts' 'Sports Shoes' 'Sunglasses' 'Sweaters'\n",
            " 'Sweatshirts' 'Swimwear' 'Tights' 'Tops' 'Track Pants' 'Tracksuits'\n",
            " 'Trousers' 'Tshirts' 'Umbrellas' 'Waist Pouch' 'Waistcoat' 'Watches']\n"
          ]
        }
      ]
    },
    {
      "cell_type": "code",
      "source": [
        "!pip install split-folders"
      ],
      "metadata": {
        "id": "lTCQ71hrYemi",
        "colab": {
          "base_uri": "https://localhost:8080/"
        },
        "outputId": "81f36b82-c9ec-4ebd-e412-d1b7b93ea5e3"
      },
      "execution_count": null,
      "outputs": [
        {
          "output_type": "stream",
          "name": "stdout",
          "text": [
            "Looking in indexes: https://pypi.org/simple, https://us-python.pkg.dev/colab-wheels/public/simple/\n",
            "Collecting split-folders\n",
            "  Downloading split_folders-0.5.1-py3-none-any.whl (8.4 kB)\n",
            "Installing collected packages: split-folders\n",
            "Successfully installed split-folders-0.5.1\n"
          ]
        }
      ]
    },
    {
      "cell_type": "code",
      "source": [
        "import splitfolders as sf\n",
        "#sf.ratio(\"/content/drive/MyDrive/FashionDataset\",output=\"output\",ratio=(.8,0.1,0.1))"
      ],
      "metadata": {
        "colab": {
          "base_uri": "https://localhost:8080/"
        },
        "id": "E7FMWUUYyN4U",
        "outputId": "58af6457-0f0b-403f-ff58-1480b15896a0"
      },
      "execution_count": null,
      "outputs": [
        {
          "output_type": "stream",
          "name": "stderr",
          "text": [
            "Copying files: 28804 files [24:53, 19.28 files/s]\n"
          ]
        }
      ]
    },
    {
      "cell_type": "code",
      "source": [
        "train_dir=\"/content/output/train/\"\n",
        "test_dir=\"/content/output/test/\"\n",
        "val_dir=\"/content/output/val/\""
      ],
      "metadata": {
        "id": "t2N9mV8C86Nq"
      },
      "execution_count": null,
      "outputs": []
    },
    {
      "cell_type": "code",
      "source": [
        "import pathlib \n",
        "import numpy as np\n",
        "data_dir=pathlib.Path(train_dir)\n",
        "class_names=np.array(sorted([item.name for item in data_dir.glob(\"*\")]))\n",
        "print(class_names)"
      ],
      "metadata": {
        "colab": {
          "base_uri": "https://localhost:8080/"
        },
        "id": "gpLSmzZl9lvp",
        "outputId": "6244e973-3be6-4688-960a-51ccdffb5869"
      },
      "execution_count": null,
      "outputs": [
        {
          "output_type": "stream",
          "name": "stdout",
          "text": [
            "['Backpacks' 'Belts' 'Blazers' 'Booties' 'Capris' 'Caps' 'Casual Shoes'\n",
            " 'Dresses' 'Duffel Bag' 'Earrings' 'Flats' 'Formal Shoes' 'Gloves'\n",
            " 'Handbags' 'Hat' 'Heels' 'Jackets' 'Jeans' 'Jeggings' 'Jumpsuit'\n",
            " 'Laptop Bag' 'Leggings' 'Lounge Pants' 'Lounge Shorts' 'Lounge Tshirts'\n",
            " 'Mufflers' 'Rain Jacket' 'Rain Trousers' 'Rompers' 'Scarves' 'Shirts'\n",
            " 'Shorts' 'Shrug' 'Skirts' 'Sports Shoes' 'Sunglasses' 'Sweaters'\n",
            " 'Sweatshirts' 'Swimwear' 'Tights' 'Tops' 'Track Pants' 'Tracksuits'\n",
            " 'Trousers' 'Tshirts' 'Umbrellas' 'Waist Pouch' 'Waistcoat' 'Watches']\n"
          ]
        }
      ]
    },
    {
      "cell_type": "code",
      "source": [
        "\n",
        "# View an image\n",
        "import matplotlib.pyplot as plt\n",
        "import matplotlib.image as mpimg\n",
        "import random\n",
        "\n",
        "def view_random_image(target_dir, target_class):\n",
        "  # Setup target directory (we'll view images from here)\n",
        "  target_folder = target_dir+target_class\n",
        "\n",
        "  # Get a random image path\n",
        "  random_image = random.sample(os.listdir(target_folder), 1)\n",
        "\n",
        "  # Read in the image and plot it using matplotlib\n",
        "  img = mpimg.imread(target_folder + \"/\" + random_image[0])\n",
        "  plt.imshow(img)\n",
        "  plt.title(target_class)\n",
        "  plt.axis(\"off\");\n",
        "\n",
        "  print(f\"Image shape: {img.shape}\") # show the shape of the image\n",
        "\n",
        "  return img"
      ],
      "metadata": {
        "id": "Dt5ztv8r-JTh"
      },
      "execution_count": null,
      "outputs": []
    },
    {
      "cell_type": "code",
      "source": [
        "import random\n",
        "img=view_random_image(target_dir=train_dir,target_class=random.choice(class_names))"
      ],
      "metadata": {
        "colab": {
          "base_uri": "https://localhost:8080/",
          "height": 281
        },
        "id": "cn4LRp7g96tJ",
        "outputId": "ca0fcddc-24fa-486e-cf61-5e5dbe1c9420"
      },
      "execution_count": null,
      "outputs": [
        {
          "output_type": "stream",
          "name": "stdout",
          "text": [
            "Image shape: (2400, 1800, 3)\n"
          ]
        },
        {
          "output_type": "display_data",
          "data": {
            "text/plain": [
              "<Figure size 432x288 with 1 Axes>"
            ],
            "image/png": "[encoded data removed]"
          },
          "metadata": {
            "needs_background": "light"
          }
        }
      ]
    },
    {
      "cell_type": "code",
      "source": [
        "from tensorflow.keras.preprocessing.image import ImageDataGenerator\n",
        "#rescaling\n",
        "train_datagen=ImageDataGenerator(rescale=1/255.)\n",
        "val_datagen=ImageDataGenerator(rescale=1/255.)\n",
        "test_datagen=ImageDataGenerator(rescale=1/255.)\n"
      ],
      "metadata": {
        "id": "4ny3TA5r-Suz"
      },
      "execution_count": null,
      "outputs": []
    },
    {
      "cell_type": "code",
      "source": [
        "#load data in from dir and turn it into batches\n",
        "train_data=train_datagen.flow_from_directory(train_dir,\n",
        "                                             target_size=(224,224),\n",
        "                                             batch_size=32,\n",
        "                                             class_mode=\"categorical\")\n",
        "val_data=val_datagen.flow_from_directory(val_dir,\n",
        "                                             target_size=(224,224),\n",
        "                                             batch_size=32,\n",
        "                                             class_mode=\"categorical\")\n",
        "test_data=test_datagen.flow_from_directory(test_dir,\n",
        "                                             target_size=(224,224),\n",
        "                                             batch_size=32,\n",
        "                                             class_mode=\"categorical\")"
      ],
      "metadata": {
        "colab": {
          "base_uri": "https://localhost:8080/"
        },
        "id": "qh4LV_9B_Sr0",
        "outputId": "075827fc-1a9e-4c4a-9b1d-591385b0dc8f"
      },
      "execution_count": null,
      "outputs": [
        {
          "output_type": "stream",
          "name": "stdout",
          "text": [
            "Found 23024 images belonging to 49 classes.\n",
            "Found 2857 images belonging to 49 classes.\n",
            "Found 2923 images belonging to 49 classes.\n"
          ]
        }
      ]
    },
    {
      "cell_type": "code",
      "source": [
        "import tensorflow as tf\n",
        "from tensorflow.keras.models import Sequential\n",
        "from tensorflow.keras.layers import Conv2D,MaxPool2D,Flatten,Dense\n",
        "\n",
        "model_1=Sequential([\n",
        "    Conv2D(10,3,activation=\"relu\",input_shape=(224,224,3)),\n",
        "    Conv2D(10,3,activation=\"relu\"),\n",
        "    MaxPool2D(),\n",
        "    Conv2D(10,3,activation=\"relu\"),\n",
        "    Conv2D(10,3,activation=\"relu\"),\n",
        "    MaxPool2D(),\n",
        "    Flatten(),\n",
        "    Dense(49,activation=\"softmax\")\n",
        "\n",
        "])\n",
        "\n",
        "model_1.compile(loss=\"categorical_crossentropy\",\n",
        "                optimizer=tf.keras.optimizers.Adam(),\n",
        "                metrics=[\"accuracy\"])\n",
        "history_1=model_1.fit(train_data,\n",
        "                      epochs=5,\n",
        "                      steps_per_epoch=len(train_data),\n",
        "                      validation_data=val_data,\n",
        "                      validation_steps=len(val_data))\n"
      ],
      "metadata": {
        "colab": {
          "base_uri": "https://localhost:8080/"
        },
        "id": "1lPRXxXm_rYn",
        "outputId": "f6aeda86-f26f-4052-9770-861782a00421"
      },
      "execution_count": null,
      "outputs": [
        {
          "output_type": "stream",
          "name": "stdout",
          "text": [
            "Epoch 1/5\n",
            "720/720 [==============================] - 2710s 4s/step - loss: 0.8554 - accuracy: 0.7377 - val_loss: 0.5638 - val_accuracy: 0.8197\n",
            "Epoch 2/5\n",
            "720/720 [==============================] - 2698s 4s/step - loss: 0.4116 - accuracy: 0.8569 - val_loss: 0.4911 - val_accuracy: 0.8439\n",
            "Epoch 3/5\n",
            "720/720 [==============================] - 2702s 4s/step - loss: 0.2322 - accuracy: 0.9170 - val_loss: 0.5641 - val_accuracy: 0.8348\n",
            "Epoch 4/5\n",
            "720/720 [==============================] - 2695s 4s/step - loss: 0.1349 - accuracy: 0.9506 - val_loss: 0.5639 - val_accuracy: 0.8477\n",
            "Epoch 5/5\n",
            "720/720 [==============================] - 2706s 4s/step - loss: 0.0909 - accuracy: 0.9655 - val_loss: 0.7150 - val_accuracy: 0.8411\n"
          ]
        }
      ]
    },
    {
      "cell_type": "code",
      "source": [
        "model_1.evaluate(test_data)"
      ],
      "metadata": {
        "colab": {
          "base_uri": "https://localhost:8080/"
        },
        "id": "CgCzLRLoMmj0",
        "outputId": "3709e89c-678f-4804-82fb-2ce219bc7906"
      },
      "execution_count": null,
      "outputs": [
        {
          "output_type": "stream",
          "name": "stdout",
          "text": [
            "92/92 [==============================] - 213s 2s/step - loss: 0.9908 - accuracy: 0.8159\n"
          ]
        },
        {
          "output_type": "execute_result",
          "data": {
            "text/plain": [
              "[0.9907941818237305, 0.8159425258636475]"
            ]
          },
          "metadata": {},
          "execution_count": 17
        }
      ]
    },
    {
      "cell_type": "code",
      "source": [
        "# Plot the validation and training data separately\n",
        "def plot_loss_curves(history):\n",
        "  \"\"\"\n",
        "  Returns separate loss curves for training and validation metrics.\n",
        "  \"\"\" \n",
        "  loss = history.history['loss']\n",
        "  val_loss = history.history['val_loss']\n",
        "\n",
        "  accuracy = history.history['accuracy']\n",
        "  val_accuracy = history.history['val_accuracy']\n",
        "\n",
        "  epochs = range(len(history.history['loss']))\n",
        "\n",
        "  # Plot loss\n",
        "  plt.plot(epochs, loss, label='training_loss')\n",
        "  plt.plot(epochs, val_loss, label='val_loss')\n",
        "  plt.title('Loss')\n",
        "  plt.xlabel('Epochs')\n",
        "  plt.legend()\n",
        "\n",
        "  # Plot accuracy\n",
        "  plt.figure()\n",
        "  plt.plot(epochs, accuracy, label='training_accuracy')\n",
        "  plt.plot(epochs, val_accuracy, label='val_accuracy')\n",
        "  plt.title('Accuracy')\n",
        "  plt.xlabel('Epochs')\n",
        "  plt.legend();"
      ],
      "metadata": {
        "id": "Ubkbt_IMOodw"
      },
      "execution_count": null,
      "outputs": []
    },
    {
      "cell_type": "code",
      "source": [
        "plot_loss_curves(history_1)"
      ],
      "metadata": {
        "colab": {
          "base_uri": "https://localhost:8080/",
          "height": 573
        },
        "id": "qECISz8fOpc0",
        "outputId": "900aaa6f-1f29-4803-8e9e-a970ac5bcf43"
      },
      "execution_count": null,
      "outputs": [
        {
          "output_type": "display_data",
          "data": {
            "text/plain": [
              "<Figure size 432x288 with 1 Axes>"
            ],
            "image/png": "[encoded data removed]"
          },
          "metadata": {
            "needs_background": "light"
          }
        },
        {
          "output_type": "display_data",
          "data": {
            "text/plain": [
              "<Figure size 432x288 with 1 Axes>"
            ],
            "image/png": "[encoded data removed]"
          },
          "metadata": {
            "needs_background": "light"
          }
        }
      ]
    },
    {
      "cell_type": "code",
      "source": [
        "model_1.save(\"Model_1\")"
      ],
      "metadata": {
        "colab": {
          "base_uri": "https://localhost:8080/"
        },
        "id": "Xx9ZvDqMPw8Y",
        "outputId": "5eb5bb53-5e42-4612-cb2a-02e6381c239f"
      },
      "execution_count": null,
      "outputs": [
        {
          "output_type": "stream",
          "name": "stderr",
          "text": [
            "WARNING:absl:Found untraced functions such as _jit_compiled_convolution_op, _jit_compiled_convolution_op, _jit_compiled_convolution_op, _jit_compiled_convolution_op, _update_step_xla while saving (showing 5 of 5). These functions will not be directly callable after loading.\n"
          ]
        }
      ]
    },
    {
      "cell_type": "code",
      "source": [
        "model_1.save(\"Model_1_h5.h5\")"
      ],
      "metadata": {
        "id": "_eWF8iCsSThX"
      },
      "execution_count": null,
      "outputs": []
    },
    {
      "cell_type": "code",
      "source": [
        "!zip -r /content/Model_1 /content/Model_1\n",
        "from google.colab import files\n",
        "files.download(\"/content/Model_1.zip\")\n"
      ],
      "metadata": {
        "colab": {
          "base_uri": "https://localhost:8080/",
          "height": 156
        },
        "id": "2H3tRpXZSVTM",
        "outputId": "8e38da29-0220-4704-bb52-387225d833e1"
      },
      "execution_count": null,
      "outputs": [
        {
          "output_type": "stream",
          "name": "stdout",
          "text": [
            "  adding: content/Model_1/ (stored 0%)\n",
            "  adding: content/Model_1/assets/ (stored 0%)\n",
            "  adding: content/Model_1/keras_metadata.pb (deflated 91%)\n",
            "  adding: content/Model_1/saved_model.pb (deflated 89%)\n",
            "  adding: content/Model_1/variables/ (stored 0%)\n",
            "  adding: content/Model_1/variables/variables.index (deflated 65%)\n",
            "  adding: content/Model_1/variables/variables.data-00000-of-00001 (deflated 5%)\n",
            "  adding: content/Model_1/fingerprint.pb (stored 0%)\n"
          ]
        },
        {
          "output_type": "display_data",
          "data": {
            "text/plain": [
              "<IPython.core.display.Javascript object>"
            ],
            "application/javascript": [
              "\n",
              "    async function download(id, filename, size) {\n",
              "      if (!google.colab.kernel.accessAllowed) {\n",
              "        return;\n",
              "      }\n",
              "      const div = document.createElement('div');\n",
              "      const label = document.createElement('label');\n",
              "      label.textContent = `Downloading \"${filename}\": `;\n",
              "      div.appendChild(label);\n",
              "      const progress = document.createElement('progress');\n",
              "      progress.max = size;\n",
              "      div.appendChild(progress);\n",
              "      document.body.appendChild(div);\n",
              "\n",
              "      const buffers = [];\n",
              "      let downloaded = 0;\n",
              "\n",
              "      const channel = await google.colab.kernel.comms.open(id);\n",
              "      // Send a message to notify the kernel that we're ready.\n",
              "      channel.send({})\n",
              "\n",
              "      for await (const message of channel.messages) {\n",
              "        // Send a message to notify the kernel that we're ready.\n",
              "        channel.send({})\n",
              "        if (message.buffers) {\n",
              "          for (const buffer of message.buffers) {\n",
              "            buffers.push(buffer);\n",
              "            downloaded += buffer.byteLength;\n",
              "            progress.value = downloaded;\n",
              "          }\n",
              "        }\n",
              "      }\n",
              "      const blob = new Blob(buffers, {type: 'application/binary'});\n",
              "      const a = document.createElement('a');\n",
              "      a.href = window.URL.createObjectURL(blob);\n",
              "      a.download = filename;\n",
              "      div.appendChild(a);\n",
              "      a.click();\n",
              "      div.remove();\n",
              "    }\n",
              "  "
            ]
          },
          "metadata": {}
        },
        {
          "output_type": "display_data",
          "data": {
            "text/plain": [
              "<IPython.core.display.Javascript object>"
            ],
            "application/javascript": [
              "download(\"download_4674c8f7-b727-40d4-b389-986554dc86eb\", \"Model_1.zip\", 15718619)"
            ]
          },
          "metadata": {}
        }
      ]
    }
  ]
}