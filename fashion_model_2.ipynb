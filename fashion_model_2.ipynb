{
  "cells": [
    {
      "cell_type": "markdown",
      "metadata": {
        "id": "view-in-github",
        "colab_type": "text"
      },
      "source": [
        "<a href=\"https://colab.research.google.com/github/enesergen/Fashion_Models/blob/main/fashion_model_2.ipynb\" target=\"_parent\"><img src=\"https://colab.research.google.com/assets/colab-badge.svg\" alt=\"Open In Colab\"/></a>"
      ]
    },
    {
      "cell_type": "code",
      "execution_count": 1,
      "metadata": {
        "colab": {
          "base_uri": "https://localhost:8080/"
        },
        "id": "PjS2dM3pjG3S",
        "outputId": "6ce03205-adcc-4db9-d33c-a563b8d3e680"
      },
      "outputs": [
        {
          "output_type": "stream",
          "name": "stdout",
          "text": [
            "test  train  val\n",
            "There are 3 directiories and 0 images in 'drive/MyDrive/output'.\n",
            "There are 49 directiories and 0 images in 'drive/MyDrive/output/train'.\n",
            "There are 0 directiories and 4 images in 'drive/MyDrive/output/train/Umbrellas'.\n",
            "There are 0 directiories and 243 images in 'drive/MyDrive/output/train/Track Pants'.\n",
            "There are 0 directiories and 2033 images in 'drive/MyDrive/output/train/Watches'.\n",
            "There are 0 directiories and 12 images in 'drive/MyDrive/output/train/Waistcoat'.\n",
            "There are 0 directiories and 424 images in 'drive/MyDrive/output/train/Trousers'.\n",
            "There are 0 directiories and 5655 images in 'drive/MyDrive/output/train/Tshirts'.\n",
            "There are 0 directiories and 13 images in 'drive/MyDrive/output/train/Waist Pouch'.\n",
            "There are 0 directiories and 23 images in 'drive/MyDrive/output/train/Tracksuits'.\n",
            "There are 0 directiories and 7 images in 'drive/MyDrive/output/train/Tights'.\n",
            "There are 0 directiories and 1628 images in 'drive/MyDrive/output/train/Sports Shoes'.\n",
            "There are 0 directiories and 437 images in 'drive/MyDrive/output/train/Shorts'.\n",
            "There are 0 directiories and 858 images in 'drive/MyDrive/output/train/Sunglasses'.\n",
            "There are 0 directiories and 1409 images in 'drive/MyDrive/output/train/Tops'.\n",
            "There are 0 directiories and 4 images in 'drive/MyDrive/output/train/Shrug'.\n",
            "There are 0 directiories and 102 images in 'drive/MyDrive/output/train/Skirts'.\n",
            "There are 0 directiories and 228 images in 'drive/MyDrive/output/train/Sweatshirts'.\n",
            "There are 0 directiories and 13 images in 'drive/MyDrive/output/train/Swimwear'.\n",
            "There are 0 directiories and 221 images in 'drive/MyDrive/output/train/Sweaters'.\n",
            "There are 0 directiories and 9 images in 'drive/MyDrive/output/train/Rompers'.\n",
            "There are 0 directiories and 27 images in 'drive/MyDrive/output/train/Lounge Shorts'.\n",
            "There are 0 directiories and 14 images in 'drive/MyDrive/output/train/Rain Jacket'.\n",
            "There are 0 directiories and 2 images in 'drive/MyDrive/output/train/Lounge Tshirts'.\n",
            "There are 0 directiories and 141 images in 'drive/MyDrive/output/train/Leggings'.\n",
            "There are 0 directiories and 95 images in 'drive/MyDrive/output/train/Scarves'.\n",
            "There are 0 directiories and 1 images in 'drive/MyDrive/output/train/Rain Trousers'.\n",
            "There are 0 directiories and 2572 images in 'drive/MyDrive/output/train/Shirts'.\n",
            "There are 0 directiories and 30 images in 'drive/MyDrive/output/train/Mufflers'.\n",
            "There are 0 directiories and 48 images in 'drive/MyDrive/output/train/Lounge Pants'.\n",
            "There are 0 directiories and 486 images in 'drive/MyDrive/output/train/Jeans'.\n",
            "There are 0 directiories and 16 images in 'drive/MyDrive/output/train/Gloves'.\n",
            "There are 0 directiories and 65 images in 'drive/MyDrive/output/train/Laptop Bag'.\n",
            "There are 0 directiories and 1058 images in 'drive/MyDrive/output/train/Heels'.\n",
            "There are 0 directiories and 27 images in 'drive/MyDrive/output/train/Jeggings'.\n",
            "There are 0 directiories and 509 images in 'drive/MyDrive/output/train/Formal Shoes'.\n",
            "There are 0 directiories and 2 images in 'drive/MyDrive/output/train/Hat'.\n",
            "There are 0 directiories and 1407 images in 'drive/MyDrive/output/train/Handbags'.\n",
            "There are 0 directiories and 206 images in 'drive/MyDrive/output/train/Jackets'.\n",
            "There are 0 directiories and 12 images in 'drive/MyDrive/output/train/Jumpsuit'.\n",
            "There are 0 directiories and 2276 images in 'drive/MyDrive/output/train/Casual Shoes'.\n",
            "There are 0 directiories and 140 images in 'drive/MyDrive/output/train/Capris'.\n",
            "There are 0 directiories and 371 images in 'drive/MyDrive/output/train/Dresses'.\n",
            "There are 0 directiories and 333 images in 'drive/MyDrive/output/train/Earrings'.\n",
            "There are 0 directiories and 70 images in 'drive/MyDrive/output/train/Duffel Bag'.\n",
            "There are 0 directiories and 400 images in 'drive/MyDrive/output/train/Flats'.\n",
            "There are 0 directiories and 6 images in 'drive/MyDrive/output/train/Blazers'.\n",
            "There are 0 directiories and 9 images in 'drive/MyDrive/output/train/Booties'.\n",
            "There are 0 directiories and 650 images in 'drive/MyDrive/output/train/Belts'.\n",
            "There are 0 directiories and 226 images in 'drive/MyDrive/output/train/Caps'.\n",
            "There are 0 directiories and 579 images in 'drive/MyDrive/output/train/Backpacks'.\n",
            "There are 49 directiories and 0 images in 'drive/MyDrive/output/test'.\n",
            "There are 0 directiories and 255 images in 'drive/MyDrive/output/test/Watches'.\n",
            "There are 0 directiories and 708 images in 'drive/MyDrive/output/test/Tshirts'.\n",
            "There are 0 directiories and 31 images in 'drive/MyDrive/output/test/Track Pants'.\n",
            "There are 0 directiories and 4 images in 'drive/MyDrive/output/test/Tracksuits'.\n",
            "There are 0 directiories and 2 images in 'drive/MyDrive/output/test/Waistcoat'.\n",
            "There are 0 directiories and 177 images in 'drive/MyDrive/output/test/Tops'.\n",
            "There are 0 directiories and 2 images in 'drive/MyDrive/output/test/Umbrellas'.\n",
            "There are 0 directiories and 3 images in 'drive/MyDrive/output/test/Waist Pouch'.\n",
            "There are 0 directiories and 53 images in 'drive/MyDrive/output/test/Trousers'.\n",
            "There are 0 directiories and 205 images in 'drive/MyDrive/output/test/Sports Shoes'.\n",
            "There are 0 directiories and 56 images in 'drive/MyDrive/output/test/Shorts'.\n",
            "There are 0 directiories and 3 images in 'drive/MyDrive/output/test/Swimwear'.\n",
            "There are 0 directiories and 2 images in 'drive/MyDrive/output/test/Shrug'.\n",
            "There are 0 directiories and 14 images in 'drive/MyDrive/output/test/Skirts'.\n",
            "There are 0 directiories and 29 images in 'drive/MyDrive/output/test/Sweaters'.\n",
            "There are 0 directiories and 322 images in 'drive/MyDrive/output/test/Shirts'.\n",
            "There are 0 directiories and 108 images in 'drive/MyDrive/output/test/Sunglasses'.\n",
            "There are 0 directiories and 2 images in 'drive/MyDrive/output/test/Tights'.\n",
            "There are 0 directiories and 29 images in 'drive/MyDrive/output/test/Sweatshirts'.\n",
            "There are 0 directiories and 3 images in 'drive/MyDrive/output/test/Rain Jacket'.\n",
            "There are 0 directiories and 13 images in 'drive/MyDrive/output/test/Scarves'.\n",
            "There are 0 directiories and 9 images in 'drive/MyDrive/output/test/Laptop Bag'.\n",
            "There are 0 directiories and 7 images in 'drive/MyDrive/output/test/Lounge Pants'.\n",
            "There are 0 directiories and 4 images in 'drive/MyDrive/output/test/Lounge Shorts'.\n",
            "There are 0 directiories and 1 images in 'drive/MyDrive/output/test/Rain Trousers'.\n",
            "There are 0 directiories and 5 images in 'drive/MyDrive/output/test/Mufflers'.\n",
            "There are 0 directiories and 1 images in 'drive/MyDrive/output/test/Lounge Tshirts'.\n",
            "There are 0 directiories and 2 images in 'drive/MyDrive/output/test/Rompers'.\n",
            "There are 0 directiories and 19 images in 'drive/MyDrive/output/test/Leggings'.\n",
            "There are 0 directiories and 3 images in 'drive/MyDrive/output/test/Jumpsuit'.\n",
            "There are 0 directiories and 62 images in 'drive/MyDrive/output/test/Jeans'.\n",
            "There are 0 directiories and 4 images in 'drive/MyDrive/output/test/Jeggings'.\n",
            "There are 0 directiories and 65 images in 'drive/MyDrive/output/test/Formal Shoes'.\n",
            "There are 0 directiories and 27 images in 'drive/MyDrive/output/test/Jackets'.\n",
            "There are 0 directiories and 50 images in 'drive/MyDrive/output/test/Flats'.\n",
            "There are 0 directiories and 133 images in 'drive/MyDrive/output/test/Heels'.\n",
            "There are 0 directiories and 177 images in 'drive/MyDrive/output/test/Handbags'.\n",
            "There are 0 directiories and 1 images in 'drive/MyDrive/output/test/Hat'.\n",
            "There are 0 directiories and 2 images in 'drive/MyDrive/output/test/Gloves'.\n",
            "There are 0 directiories and 29 images in 'drive/MyDrive/output/test/Caps'.\n",
            "There are 0 directiories and 2 images in 'drive/MyDrive/output/test/Blazers'.\n",
            "There are 0 directiories and 82 images in 'drive/MyDrive/output/test/Belts'.\n",
            "There are 0 directiories and 47 images in 'drive/MyDrive/output/test/Dresses'.\n",
            "There are 0 directiories and 286 images in 'drive/MyDrive/output/test/Casual Shoes'.\n",
            "There are 0 directiories and 73 images in 'drive/MyDrive/output/test/Backpacks'.\n",
            "There are 0 directiories and 18 images in 'drive/MyDrive/output/test/Capris'.\n",
            "There are 0 directiories and 43 images in 'drive/MyDrive/output/test/Earrings'.\n",
            "There are 0 directiories and 10 images in 'drive/MyDrive/output/test/Duffel Bag'.\n",
            "There are 0 directiories and 2 images in 'drive/MyDrive/output/test/Booties'.\n",
            "There are 49 directiories and 0 images in 'drive/MyDrive/output/val'.\n",
            "There are 0 directiories and 1 images in 'drive/MyDrive/output/val/Waistcoat'.\n",
            "There are 0 directiories and 28 images in 'drive/MyDrive/output/val/Sweatshirts'.\n",
            "There are 0 directiories and 30 images in 'drive/MyDrive/output/val/Track Pants'.\n",
            "There are 0 directiories and 176 images in 'drive/MyDrive/output/val/Tops'.\n",
            "There are 0 directiories and 2 images in 'drive/MyDrive/output/val/Tracksuits'.\n",
            "There are 0 directiories and 53 images in 'drive/MyDrive/output/val/Trousers'.\n",
            "There are 0 directiories and 706 images in 'drive/MyDrive/output/val/Tshirts'.\n",
            "There are 0 directiories and 254 images in 'drive/MyDrive/output/val/Watches'.\n",
            "There are 0 directiories and 1 images in 'drive/MyDrive/output/val/Waist Pouch'.\n",
            "There are 0 directiories and 1 images in 'drive/MyDrive/output/val/Swimwear'.\n",
            "There are 0 directiories and 203 images in 'drive/MyDrive/output/val/Sports Shoes'.\n",
            "There are 0 directiories and 27 images in 'drive/MyDrive/output/val/Sweaters'.\n",
            "There are 0 directiories and 1 images in 'drive/MyDrive/output/val/Rompers'.\n",
            "There are 0 directiories and 3 images in 'drive/MyDrive/output/val/Mufflers'.\n",
            "There are 0 directiories and 11 images in 'drive/MyDrive/output/val/Scarves'.\n",
            "There are 0 directiories and 1 images in 'drive/MyDrive/output/val/Rain Jacket'.\n",
            "There are 0 directiories and 321 images in 'drive/MyDrive/output/val/Shirts'.\n",
            "There are 0 directiories and 12 images in 'drive/MyDrive/output/val/Skirts'.\n",
            "There are 0 directiories and 54 images in 'drive/MyDrive/output/val/Shorts'.\n",
            "There are 0 directiories and 107 images in 'drive/MyDrive/output/val/Sunglasses'.\n",
            "There are 0 directiories and 3 images in 'drive/MyDrive/output/val/Jeggings'.\n",
            "There are 0 directiories and 8 images in 'drive/MyDrive/output/val/Laptop Bag'.\n",
            "There are 0 directiories and 6 images in 'drive/MyDrive/output/val/Lounge Pants'.\n",
            "There are 0 directiories and 132 images in 'drive/MyDrive/output/val/Heels'.\n",
            "There are 0 directiories and 3 images in 'drive/MyDrive/output/val/Lounge Shorts'.\n",
            "There are 0 directiories and 17 images in 'drive/MyDrive/output/val/Leggings'.\n",
            "There are 0 directiories and 1 images in 'drive/MyDrive/output/val/Jumpsuit'.\n",
            "There are 0 directiories and 175 images in 'drive/MyDrive/output/val/Handbags'.\n",
            "There are 0 directiories and 25 images in 'drive/MyDrive/output/val/Jackets'.\n",
            "There are 0 directiories and 60 images in 'drive/MyDrive/output/val/Jeans'.\n",
            "There are 0 directiories and 28 images in 'drive/MyDrive/output/val/Caps'.\n",
            "There are 0 directiories and 46 images in 'drive/MyDrive/output/val/Dresses'.\n",
            "There are 0 directiories and 63 images in 'drive/MyDrive/output/val/Formal Shoes'.\n",
            "There are 0 directiories and 1 images in 'drive/MyDrive/output/val/Booties'.\n",
            "There are 0 directiories and 2 images in 'drive/MyDrive/output/val/Gloves'.\n",
            "There are 0 directiories and 17 images in 'drive/MyDrive/output/val/Capris'.\n",
            "There are 0 directiories and 284 images in 'drive/MyDrive/output/val/Casual Shoes'.\n",
            "There are 0 directiories and 8 images in 'drive/MyDrive/output/val/Duffel Bag'.\n",
            "There are 0 directiories and 50 images in 'drive/MyDrive/output/val/Flats'.\n",
            "There are 0 directiories and 41 images in 'drive/MyDrive/output/val/Earrings'.\n",
            "There are 0 directiories and 81 images in 'drive/MyDrive/output/val/Belts'.\n",
            "There are 0 directiories and 72 images in 'drive/MyDrive/output/val/Backpacks'.\n",
            "There are 0 directiories and 1 images in 'drive/MyDrive/output/val/Blazers'.\n",
            "There are 0 directiories and 1 images in 'drive/MyDrive/output/val/Hat'.\n",
            "There are 0 directiories and 1 images in 'drive/MyDrive/output/val/Lounge Tshirts'.\n",
            "There are 0 directiories and 1 images in 'drive/MyDrive/output/val/Shrug'.\n",
            "There are 0 directiories and 1 images in 'drive/MyDrive/output/val/Rain Trousers'.\n",
            "There are 0 directiories and 1 images in 'drive/MyDrive/output/val/Tights'.\n",
            "There are 0 directiories and 1 images in 'drive/MyDrive/output/val/Umbrellas'.\n"
          ]
        }
      ],
      "source": [
        "!ls drive/MyDrive/output/\n",
        "import os \n",
        "for dirpath,dirnames,filenames in os.walk(\"drive/MyDrive/output\"):\n",
        "  print(f\"There are {len(dirnames)} directiories and {len(filenames)} images in '{dirpath}'.\")\n",
        "     "
      ]
    },
    {
      "cell_type": "code",
      "execution_count": 2,
      "metadata": {
        "id": "7J0gnrBujxro"
      },
      "outputs": [],
      "source": [
        "train_dir=\"/content/drive/MyDrive/output/train/\"\n",
        "test_dir=\"/content/drive/MyDrive/output/test/\"\n",
        "val_dir=\"/content/drive/MyDrive/output/val/\""
      ]
    },
    {
      "cell_type": "code",
      "execution_count": 3,
      "metadata": {
        "colab": {
          "base_uri": "https://localhost:8080/"
        },
        "id": "ozDP6YymkKLJ",
        "outputId": "ff19cf24-5a64-410b-a744-4fc9451813b9"
      },
      "outputs": [
        {
          "output_type": "stream",
          "name": "stdout",
          "text": [
            "['Backpacks' 'Belts' 'Blazers' 'Booties' 'Capris' 'Caps' 'Casual Shoes'\n",
            " 'Dresses' 'Duffel Bag' 'Earrings' 'Flats' 'Formal Shoes' 'Gloves'\n",
            " 'Handbags' 'Hat' 'Heels' 'Jackets' 'Jeans' 'Jeggings' 'Jumpsuit'\n",
            " 'Laptop Bag' 'Leggings' 'Lounge Pants' 'Lounge Shorts' 'Lounge Tshirts'\n",
            " 'Mufflers' 'Rain Jacket' 'Rain Trousers' 'Rompers' 'Scarves' 'Shirts'\n",
            " 'Shorts' 'Shrug' 'Skirts' 'Sports Shoes' 'Sunglasses' 'Sweaters'\n",
            " 'Sweatshirts' 'Swimwear' 'Tights' 'Tops' 'Track Pants' 'Tracksuits'\n",
            " 'Trousers' 'Tshirts' 'Umbrellas' 'Waist Pouch' 'Waistcoat' 'Watches']\n"
          ]
        }
      ],
      "source": [
        "import pathlib \n",
        "import numpy as np\n",
        "data_dir=pathlib.Path(train_dir)\n",
        "class_names=np.array(sorted([item.name for item in data_dir.glob(\"*\")]))\n",
        "print(class_names)"
      ]
    },
    {
      "cell_type": "code",
      "execution_count": 4,
      "metadata": {
        "id": "1W0HDBJwkSDM"
      },
      "outputs": [],
      "source": [
        "# View an image\n",
        "import matplotlib.pyplot as plt\n",
        "import matplotlib.image as mpimg\n",
        "import random\n",
        "\n",
        "def view_random_image(target_dir, target_class):\n",
        "  # Setup target directory (we'll view images from here)\n",
        "  target_folder = target_dir+target_class\n",
        "\n",
        "  # Get a random image path\n",
        "  random_image = random.sample(os.listdir(target_folder), 1)\n",
        "\n",
        "  # Read in the image and plot it using matplotlib\n",
        "  img = mpimg.imread(target_folder + \"/\" + random_image[0])\n",
        "  plt.imshow(img)\n",
        "  plt.title(target_class)\n",
        "  plt.axis(\"off\");\n",
        "\n",
        "  print(f\"Image shape: {img.shape}\") # show the shape of the image\n",
        "\n",
        "  return img"
      ]
    },
    {
      "cell_type": "code",
      "execution_count": 5,
      "metadata": {
        "colab": {
          "base_uri": "https://localhost:8080/",
          "height": 281
        },
        "id": "Xdp6zw3bkVfY",
        "outputId": "10ef236f-8616-45fc-e65c-8b03cac34540"
      },
      "outputs": [
        {
          "output_type": "stream",
          "name": "stdout",
          "text": [
            "Image shape: (1440, 1080, 3)\n"
          ]
        },
        {
          "output_type": "display_data",
          "data": {
            "text/plain": [
              "<Figure size 432x288 with 1 Axes>"
            ],
            "image/png": "[encoded data removed]"
          },
          "metadata": {
            "needs_background": "light"
          }
        }
      ],
      "source": [
        "import random\n",
        "img=view_random_image(target_dir=train_dir,target_class=random.choice(class_names))"
      ]
    },
    {
      "cell_type": "code",
      "execution_count": 6,
      "metadata": {
        "colab": {
          "base_uri": "https://localhost:8080/"
        },
        "id": "e7w5n_9EkYCU",
        "outputId": "dd82795f-08e5-4174-8c80-229d6f11ad78"
      },
      "outputs": [
        {
          "output_type": "stream",
          "name": "stdout",
          "text": [
            "Found 25101 images belonging to 49 classes.\n",
            "Found 3122 images belonging to 49 classes.\n",
            "Found 3185 images belonging to 49 classes.\n"
          ]
        }
      ],
      "source": [
        "from tensorflow.keras.preprocessing.image import ImageDataGenerator\n",
        "#rescaling\n",
        "train_datagen_augmented=ImageDataGenerator(rescale=1/255.,\n",
        "                                           rotation_range=20,\n",
        "                                           width_shift_range=0.2,\n",
        "                                           height_shift_range=0.2,\n",
        "                                           zoom_range=0.2,\n",
        "                                           horizontal_flip=True)\n",
        "train_data_augmented=train_datagen_augmented.flow_from_directory(train_dir,\n",
        "                                                                 target_size=(224,224),\n",
        "                                                                 batch_size=32,\n",
        "                                                                 class_mode=\"categorical\")\n",
        "val_datagen=ImageDataGenerator(rescale=1/255.)\n",
        "test_datagen=ImageDataGenerator(rescale=1/255.)\n",
        "val_data=val_datagen.flow_from_directory(val_dir,\n",
        "                                             target_size=(224,224),\n",
        "                                             batch_size=32,\n",
        "                                             class_mode=\"categorical\")\n",
        "test_data=test_datagen.flow_from_directory(test_dir,\n",
        "                                             target_size=(224,224),\n",
        "                                             batch_size=32,\n",
        "                                             class_mode=\"categorical\")"
      ]
    },
    {
      "cell_type": "code",
      "execution_count": 7,
      "metadata": {
        "colab": {
          "base_uri": "https://localhost:8080/"
        },
        "id": "rGBYFIwSmNL6",
        "outputId": "f8eb8e78-e732-49eb-9257-9a0788aeeda4"
      },
      "outputs": [
        {
          "output_type": "stream",
          "name": "stdout",
          "text": [
            "Epoch 1/5\n",
            "785/785 [==============================] - 10279s 13s/step - loss: 2.2575 - accuracy: 0.3320 - val_loss: 1.5171 - val_accuracy: 0.5471\n",
            "Epoch 2/5\n",
            "785/785 [==============================] - 1384s 2s/step - loss: 1.6052 - accuracy: 0.5108 - val_loss: 1.1865 - val_accuracy: 0.6179\n",
            "Epoch 3/5\n",
            "785/785 [==============================] - 1381s 2s/step - loss: 1.3914 - accuracy: 0.5693 - val_loss: 1.0150 - val_accuracy: 0.6669\n",
            "Epoch 4/5\n",
            "785/785 [==============================] - 1378s 2s/step - loss: 1.2557 - accuracy: 0.6057 - val_loss: 0.9835 - val_accuracy: 0.6928\n",
            "Epoch 5/5\n",
            "785/785 [==============================] - 1395s 2s/step - loss: 1.1683 - accuracy: 0.6273 - val_loss: 1.0507 - val_accuracy: 0.6602\n"
          ]
        }
      ],
      "source": [
        "import tensorflow as tf\n",
        "from tensorflow.keras.models import Sequential\n",
        "from tensorflow.keras.layers import Conv2D,MaxPool2D,Flatten,Dense\n",
        "from tensorflow.keras.optimizers.legacy import Adam\n",
        "model_2=Sequential([\n",
        "    Conv2D(10,3,activation=\"relu\",input_shape=(224,224,3)),\n",
        "    Conv2D(10,3,activation=\"relu\"),\n",
        "    MaxPool2D(),\n",
        "    Conv2D(10,3,activation=\"relu\"),\n",
        "    Conv2D(10,3,activation=\"relu\"),\n",
        "    MaxPool2D(),\n",
        "    Conv2D(10,3,activation=\"relu\"),\n",
        "    Conv2D(10,3,activation=\"relu\"),\n",
        "    MaxPool2D(),\n",
        "    Conv2D(10,3,activation=\"relu\"),\n",
        "    Conv2D(10,3,activation=\"relu\"),\n",
        "    MaxPool2D(),\n",
        "    Flatten(),\n",
        "    Dense(49,activation=\"softmax\")\n",
        "\n",
        "])\n",
        "\n",
        "model_2.compile(loss=\"categorical_crossentropy\",\n",
        "                optimizer=Adam(),\n",
        "                metrics=[\"accuracy\"])\n",
        "\n",
        "history_2=model_2.fit(train_data_augmented,\n",
        "                      epochs=5,\n",
        "                      steps_per_epoch=len(train_data_augmented),\n",
        "                      validation_data=val_data,\n",
        "                      validation_steps=len(val_data))\n"
      ]
    },
    {
      "cell_type": "code",
      "execution_count": 8,
      "metadata": {
        "id": "GrMOB7Aske26",
        "colab": {
          "base_uri": "https://localhost:8080/"
        },
        "outputId": "8362577d-119c-48ed-e416-e017dafd0c9b"
      },
      "outputs": [
        {
          "output_type": "stream",
          "name": "stdout",
          "text": [
            "100/100 [==============================] - 1167s 12s/step - loss: 1.0517 - accuracy: 0.6584\n"
          ]
        },
        {
          "output_type": "execute_result",
          "data": {
            "text/plain": [
              "[1.051749587059021, 0.6583987474441528]"
            ]
          },
          "metadata": {},
          "execution_count": 8
        }
      ],
      "source": [
        "model_2.evaluate(test_data)"
      ]
    },
    {
      "cell_type": "code",
      "execution_count": 9,
      "metadata": {
        "id": "iwDFQJaMnxd6"
      },
      "outputs": [],
      "source": [
        "# Plot the validation and training data separately\n",
        "def plot_loss_curves(history):\n",
        "  \"\"\"\n",
        "  Returns separate loss curves for training and validation metrics.\n",
        "  \"\"\" \n",
        "  loss = history.history['loss']\n",
        "  val_loss = history.history['val_loss']\n",
        "\n",
        "  accuracy = history.history['accuracy']\n",
        "  val_accuracy = history.history['val_accuracy']\n",
        "\n",
        "  epochs = range(len(history.history['loss']))\n",
        "\n",
        "  # Plot loss\n",
        "  plt.plot(epochs, loss, label='training_loss')\n",
        "  plt.plot(epochs, val_loss, label='val_loss')\n",
        "  plt.title('Loss')\n",
        "  plt.xlabel('Epochs')\n",
        "  plt.legend()\n",
        "\n",
        "  # Plot accuracy\n",
        "  plt.figure()\n",
        "  plt.plot(epochs, accuracy, label='training_accuracy')\n",
        "  plt.plot(epochs, val_accuracy, label='val_accuracy')\n",
        "  plt.title('Accuracy')\n",
        "  plt.xlabel('Epochs')\n",
        "  plt.legend();\n",
        "     "
      ]
    },
    {
      "cell_type": "code",
      "execution_count": 10,
      "metadata": {
        "id": "9BuGdaCan0qj",
        "colab": {
          "base_uri": "https://localhost:8080/",
          "height": 573
        },
        "outputId": "c08c823a-f604-4386-b61b-781477fef929"
      },
      "outputs": [
        {
          "output_type": "display_data",
          "data": {
            "text/plain": [
              "<Figure size 432x288 with 1 Axes>"
            ],
            "image/png": "[encoded data removed]"
          },
          "metadata": {
            "needs_background": "light"
          }
        },
        {
          "output_type": "display_data",
          "data": {
            "text/plain": [
              "<Figure size 432x288 with 1 Axes>"
            ],
            "image/png": "[encoded data removed]"
          },
          "metadata": {
            "needs_background": "light"
          }
        }
      ],
      "source": [
        "plot_loss_curves(history_2)"
      ]
    },
    {
      "cell_type": "code",
      "execution_count": 11,
      "metadata": {
        "id": "Q3s78IyXn3CF",
        "colab": {
          "base_uri": "https://localhost:8080/"
        },
        "outputId": "c29f4b14-a8dd-4582-d4cf-25b9a99c2991"
      },
      "outputs": [
        {
          "output_type": "stream",
          "name": "stderr",
          "text": [
            "WARNING:absl:Found untraced functions such as _jit_compiled_convolution_op, _jit_compiled_convolution_op, _jit_compiled_convolution_op, _jit_compiled_convolution_op, _jit_compiled_convolution_op while saving (showing 5 of 8). These functions will not be directly callable after loading.\n"
          ]
        }
      ],
      "source": [
        "model_2.save(\"Model_2\")"
      ]
    },
    {
      "cell_type": "code",
      "execution_count": 13,
      "metadata": {
        "id": "XW6nLA1Vn8a1"
      },
      "outputs": [],
      "source": [
        "model_2.save(\"Model_1_h5.h5\")"
      ]
    },
    {
      "cell_type": "code",
      "execution_count": 14,
      "metadata": {
        "id": "d3UlqoVRn9px",
        "colab": {
          "base_uri": "https://localhost:8080/",
          "height": 156
        },
        "outputId": "5cf21cc2-ccb6-42f9-a604-d709263815f4"
      },
      "outputs": [
        {
          "output_type": "stream",
          "name": "stdout",
          "text": [
            "  adding: content/Model_2/ (stored 0%)\n",
            "  adding: content/Model_2/variables/ (stored 0%)\n",
            "  adding: content/Model_2/variables/variables.index (deflated 73%)\n",
            "  adding: content/Model_2/variables/variables.data-00000-of-00001 (deflated 11%)\n",
            "  adding: content/Model_2/saved_model.pb (deflated 90%)\n",
            "  adding: content/Model_2/assets/ (stored 0%)\n",
            "  adding: content/Model_2/fingerprint.pb (stored 0%)\n",
            "  adding: content/Model_2/keras_metadata.pb (deflated 94%)\n"
          ]
        },
        {
          "output_type": "display_data",
          "data": {
            "text/plain": [
              "<IPython.core.display.Javascript object>"
            ],
            "application/javascript": [
              "\n",
              "    async function download(id, filename, size) {\n",
              "      if (!google.colab.kernel.accessAllowed) {\n",
              "        return;\n",
              "      }\n",
              "      const div = document.createElement('div');\n",
              "      const label = document.createElement('label');\n",
              "      label.textContent = `Downloading \"${filename}\": `;\n",
              "      div.appendChild(label);\n",
              "      const progress = document.createElement('progress');\n",
              "      progress.max = size;\n",
              "      div.appendChild(progress);\n",
              "      document.body.appendChild(div);\n",
              "\n",
              "      const buffers = [];\n",
              "      let downloaded = 0;\n",
              "\n",
              "      const channel = await google.colab.kernel.comms.open(id);\n",
              "      // Send a message to notify the kernel that we're ready.\n",
              "      channel.send({})\n",
              "\n",
              "      for await (const message of channel.messages) {\n",
              "        // Send a message to notify the kernel that we're ready.\n",
              "        channel.send({})\n",
              "        if (message.buffers) {\n",
              "          for (const buffer of message.buffers) {\n",
              "            buffers.push(buffer);\n",
              "            downloaded += buffer.byteLength;\n",
              "            progress.value = downloaded;\n",
              "          }\n",
              "        }\n",
              "      }\n",
              "      const blob = new Blob(buffers, {type: 'application/binary'});\n",
              "      const a = document.createElement('a');\n",
              "      a.href = window.URL.createObjectURL(blob);\n",
              "      a.download = filename;\n",
              "      div.appendChild(a);\n",
              "      a.click();\n",
              "      div.remove();\n",
              "    }\n",
              "  "
            ]
          },
          "metadata": {}
        },
        {
          "output_type": "display_data",
          "data": {
            "text/plain": [
              "<IPython.core.display.Javascript object>"
            ],
            "application/javascript": [
              "download(\"download_6e794b12-8154-4352-aed1-946fbaf6ee37\", \"Model_2.zip\", 638579)"
            ]
          },
          "metadata": {}
        }
      ],
      "source": [
        "!zip -r /content/Model_2 /content/Model_2\n",
        "from google.colab import files\n",
        "files.download(\"/content/Model_2.zip\")"
      ]
    }
  ],
  "metadata": {
    "accelerator": "GPU",
    "colab": {
      "provenance": [],
      "mount_file_id": "1qxsdA-29JwTfNps5dYrj7e_uFNTmpLrT",
      "authorship_tag": "ABX9TyMibuVKbuIm8Lc1/R13oY3R",
      "include_colab_link": true
    },
    "gpuClass": "standard",
    "kernelspec": {
      "display_name": "Python 3",
      "name": "python3"
    },
    "language_info": {
      "name": "python"
    }
  },
  "nbformat": 4,
  "nbformat_minor": 0
}